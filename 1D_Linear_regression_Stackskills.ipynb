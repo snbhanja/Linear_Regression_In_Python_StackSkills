{
 "cells": [
  {
   "cell_type": "code",
   "execution_count": 2,
   "metadata": {
    "collapsed": true
   },
   "outputs": [],
   "source": [
    "import numpy as np\n",
    "import pandas as pd\n",
    "import matplotlib.pyplot as plt"
   ]
  },
  {
   "cell_type": "code",
   "execution_count": 4,
   "metadata": {
    "collapsed": false
   },
   "outputs": [],
   "source": [
    "#Load the data\n",
    "dataset = pd.read_csv('G:/DL-Prerequisites-Stackskills/Linear regression/1D Linear regression/data_1d.csv') "
   ]
  },
  {
   "cell_type": "code",
   "execution_count": 6,
   "metadata": {
    "collapsed": false
   },
   "outputs": [],
   "source": [
    "X = dataset.iloc[:, 0].values\n",
    "Y = dataset.iloc[:, 1].values"
   ]
  },
  {
   "cell_type": "code",
   "execution_count": 8,
   "metadata": {
    "collapsed": false
   },
   "outputs": [
    {
     "data": {
      "text/html": [
       "<div>\n",
       "<table border=\"1\" class=\"dataframe\">\n",
       "  <thead>\n",
       "    <tr style=\"text-align: right;\">\n",
       "      <th></th>\n",
       "      <th>95.724162408</th>\n",
       "      <th>197.179636092</th>\n",
       "    </tr>\n",
       "  </thead>\n",
       "  <tbody>\n",
       "    <tr>\n",
       "      <th>0</th>\n",
       "      <td>35.757619</td>\n",
       "      <td>67.590670</td>\n",
       "    </tr>\n",
       "    <tr>\n",
       "      <th>1</th>\n",
       "      <td>28.816847</td>\n",
       "      <td>60.854133</td>\n",
       "    </tr>\n",
       "    <tr>\n",
       "      <th>2</th>\n",
       "      <td>99.958481</td>\n",
       "      <td>196.907397</td>\n",
       "    </tr>\n",
       "    <tr>\n",
       "      <th>3</th>\n",
       "      <td>66.809748</td>\n",
       "      <td>125.311129</td>\n",
       "    </tr>\n",
       "    <tr>\n",
       "      <th>4</th>\n",
       "      <td>58.215693</td>\n",
       "      <td>115.785785</td>\n",
       "    </tr>\n",
       "  </tbody>\n",
       "</table>\n",
       "</div>"
      ],
      "text/plain": [
       "   95.724162408  197.179636092\n",
       "0     35.757619      67.590670\n",
       "1     28.816847      60.854133\n",
       "2     99.958481     196.907397\n",
       "3     66.809748     125.311129\n",
       "4     58.215693     115.785785"
      ]
     },
     "execution_count": 8,
     "metadata": {},
     "output_type": "execute_result"
    }
   ],
   "source": [
    "dataset.head()"
   ]
  },
  {
   "cell_type": "code",
   "execution_count": 9,
   "metadata": {
    "collapsed": false
   },
   "outputs": [
    {
     "data": {
      "text/plain": [
       "array([ 35.75761893,  28.81684742,  99.95848131,  66.80974831,\n",
       "        58.21569264,  53.82107634,  81.29608217,  80.64869706,\n",
       "        78.25281369,  16.86348369,  90.79914756,  53.31273701,\n",
       "        71.61878902,  18.41059178,  57.12434676,  81.13468392,\n",
       "        82.01525542,  36.92490825,  44.58712604,  26.66235446,\n",
       "        74.06505712,  17.74057673,   6.81974382,  26.31736009,\n",
       "        82.80411905,  39.44653696,  76.72812059,  42.21585614,\n",
       "        94.35857584,  42.14178513,   3.21124861,   6.8856734 ,\n",
       "        13.87577216,  63.29740364,  60.49251936,  79.60728523,\n",
       "        83.44436306,  54.89207011,  62.04594417,  66.65375794,\n",
       "        61.31981316,  47.31955299,  81.1509876 ,  91.02151367,\n",
       "        16.84346201,  76.50643657,  71.86570468,   9.84808948,\n",
       "        35.78971241,  35.888692  ,  90.82944871,   7.26207284,\n",
       "        35.35928817,  79.07925376,  21.55345833,  79.47642778,\n",
       "        48.76796664,  54.79386201,  87.50352552,  38.94913047,\n",
       "         9.39561282,  11.12118682,  46.13555826,  85.69757358,\n",
       "        50.1102964 ,  11.07366673,  22.22813085,  67.5539548 ,\n",
       "        12.78718566,  46.96549084,   4.84854065,  40.53733193,\n",
       "        26.33046127,  38.88472635,  93.83826653,  60.08165997,\n",
       "        50.11396522,  17.71868528,  85.07303114,  41.32150973,\n",
       "        35.45154709,  74.02102554,  90.5197211 ,  34.54059704,\n",
       "        94.56166213,  52.95626785,  80.10643641,  49.82275758,\n",
       "        61.78172531,  60.28610836,  77.32069019,  15.64635875,\n",
       "        71.54061834,  62.45239811,  79.05983237,  72.19769344,\n",
       "        71.41775342,  31.00882008,  40.32528222])"
      ]
     },
     "execution_count": 9,
     "metadata": {},
     "output_type": "execute_result"
    }
   ],
   "source": [
    "X"
   ]
  },
  {
   "cell_type": "code",
   "execution_count": 10,
   "metadata": {
    "collapsed": false
   },
   "outputs": [
    {
     "data": {
      "text/plain": [
       "array([  67.59066954,   60.85413282,  196.90739698,  125.31112852,\n",
       "        115.78578459,  110.76277271,  157.98528569,  159.61941373,\n",
       "        149.00386554,   31.46759088,  184.18521966,  103.22061016,\n",
       "        143.27181836,   46.73641801,  107.1237942 ,  168.30937401,\n",
       "        166.82994267,   70.50145559,   96.86937025,   50.37323584,\n",
       "        145.51917071,   46.55187461,   13.24378631,   62.5006665 ,\n",
       "        159.91664958,   77.98420415,  147.26918314,   83.6452954 ,\n",
       "        191.95607269,   91.73273416,    8.25141677,   16.09638942,\n",
       "         33.35444214,  131.50574553,  128.69884306,  160.3103805 ,\n",
       "        160.60324574,  104.40029316,  126.96945605,  124.51916761,\n",
       "        125.21741443,   98.71948438,  166.43245548,  179.23687261,\n",
       "         33.77723374,  161.37296513,  138.575401  ,   17.90332828,\n",
       "         74.10859171,   74.82132297,  179.24154705,    6.43437238,\n",
       "         78.08635679,  154.59178976,   50.0307539 ,  165.44196619,\n",
       "        110.89728797,  114.69188511,  186.74420631,   70.69722298,\n",
       "         19.17903005,   27.02295992,   87.29244922,  167.92461412,\n",
       "         96.02054844,   24.94632465,   54.00414588,  133.16525443,\n",
       "         28.00622322,  100.60558947,   13.8572726 ,   82.59066294,\n",
       "         50.23180391,   79.48177242,  191.32431784,  120.49511544,\n",
       "        111.35232289,   44.93760649,  172.13320308,   84.889236  ,\n",
       "         69.91899124,  149.77864633,  187.59390974,   66.32685895,\n",
       "        189.14496411,  103.44683588,  158.52943007,   98.69883963,\n",
       "        122.64739506,  124.76334632,  155.67749312,   35.41060825,\n",
       "        151.32345871,  129.43395879,  163.09690261,  142.89852264,\n",
       "        148.09420854,   63.79687625,   86.72368533])"
      ]
     },
     "execution_count": 10,
     "metadata": {},
     "output_type": "execute_result"
    }
   ],
   "source": [
    "Y"
   ]
  },
  {
   "cell_type": "code",
   "execution_count": 12,
   "metadata": {
    "collapsed": false
   },
   "outputs": [
    {
     "data": {
      "image/png": "[encoded data removed]",
      "text/plain": [
       "<matplotlib.figure.Figure at 0x13c29b75b38>"
      ]
     },
     "metadata": {},
     "output_type": "display_data"
    }
   ],
   "source": [
    "#plot to see what it looks like\n",
    "plt.scatter(X,Y)\n",
    "plt.show()"
   ]
  },
  {
   "cell_type": "code",
   "execution_count": 13,
   "metadata": {
    "collapsed": true
   },
   "outputs": [],
   "source": [
    "#Apply the equation y'=ax+b, to calculate a and b\n",
    "denominator = X.dot(X) - X.mean() * X.sum()\n",
    "a = (X.dot(Y) - Y.mean()*X.sum()) / denominator\n",
    "b = (Y.mean() * X.dot(X) - X.mean() * X.dot(Y)) / denominator"
   ]
  },
  {
   "cell_type": "code",
   "execution_count": 14,
   "metadata": {
    "collapsed": true
   },
   "outputs": [],
   "source": [
    "#Calculate predicted Y\n",
    "Yhat = a*X+b"
   ]
  },
  {
   "cell_type": "code",
   "execution_count": 15,
   "metadata": {
    "collapsed": false
   },
   "outputs": [
    {
     "data": {
      "image/png": "[encoded data removed]",
      "text/plain": [
       "<matplotlib.figure.Figure at 0x13c2cafc518>"
      ]
     },
     "metadata": {},
     "output_type": "display_data"
    }
   ],
   "source": [
    "#plot it\n",
    "plt.scatter(X,Y)\n",
    "plt.plot(X, Yhat)\n",
    "plt.show()"
   ]
  },
  {
   "cell_type": "code",
   "execution_count": 16,
   "metadata": {
    "collapsed": false
   },
   "outputs": [
    {
     "name": "stdout",
     "output_type": "stream",
     "text": [
      "The r-squared is  0.991035871084\n"
     ]
    }
   ],
   "source": [
    "# Determine how good the code is - RSquared\n",
    "d1 = Y - Yhat\n",
    "d2 = Y - Y.mean()\n",
    "r2 = 1 - d1.dot(d1) / d2.dot(d2)\n",
    "print (\"The r-squared is \",r2)"
   ]
  }
 ],
 "metadata": {
  "kernelspec": {
   "display_name": "Python [conda root]",
   "language": "python",
   "name": "conda-root-py"
  },
  "language_info": {
   "codemirror_mode": {
    "name": "ipython",
    "version": 3
   },
   "file_extension": ".py",
   "mimetype": "text/x-python",
   "name": "python",
   "nbconvert_exporter": "python",
   "pygments_lexer": "ipython3",
   "version": "3.5.2"
  }
 },
 "nbformat": 4,
 "nbformat_minor": 1
}
